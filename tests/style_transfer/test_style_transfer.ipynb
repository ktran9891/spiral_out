{
 "cells": [
  {
   "cell_type": "code",
   "execution_count": 1,
   "metadata": {
    "scrolled": true
   },
   "outputs": [
    {
     "name": "stderr",
     "output_type": "stream",
     "text": [
      "Using TensorFlow backend.\n"
     ]
    }
   ],
   "source": [
    "from style_transfer import transfer_style"
   ]
  },
  {
   "cell_type": "code",
   "execution_count": null,
   "metadata": {
    "scrolled": false
   },
   "outputs": [
    {
     "name": "stdout",
     "output_type": "stream",
     "text": [
      "Start of iteration 0\n",
      "Current loss value:  5606753280.000000\n",
      "Image saved as ./images/000.png\n",
      "Iteration 0 completed in 181s\n",
      "Start of iteration 1\n",
      "Current loss value:  3681490432.000000\n",
      "Image saved as ./images/001.png\n",
      "Iteration 1 completed in 181s\n",
      "Start of iteration 2\n",
      "Current loss value:  3125980928.000000\n",
      "Image saved as ./images/002.png\n",
      "Iteration 2 completed in 190s\n",
      "Start of iteration 3\n",
      "Current loss value:  2829662720.000000\n",
      "Image saved as ./images/003.png\n",
      "Iteration 3 completed in 181s\n",
      "Start of iteration 4\n"
     ]
    }
   ],
   "source": [
    "content_image = 'content.jpg'\n",
    "style_image = 'style.jpg'\n",
    "fname = transfer_style(content_image, style_image)"
   ]
  },
  {
   "cell_type": "code",
   "execution_count": null,
   "metadata": {},
   "outputs": [],
   "source": []
  }
 ],
 "metadata": {
  "kernelspec": {
   "display_name": "Python 2",
   "language": "python",
   "name": "python2"
  },
  "language_info": {
   "codemirror_mode": {
    "name": "ipython",
    "version": 2
   },
   "file_extension": ".py",
   "mimetype": "text/x-python",
   "name": "python",
   "nbconvert_exporter": "python",
   "pygments_lexer": "ipython2",
   "version": "2.7.15"
  }
 },
 "nbformat": 4,
 "nbformat_minor": 2
}
