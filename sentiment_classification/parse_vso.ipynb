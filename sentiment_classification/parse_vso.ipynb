{
 "cells": [
  {
   "cell_type": "code",
   "execution_count": 2,
   "metadata": {},
   "outputs": [],
   "source": [
    "import os\n",
    "import tempfile\n",
    "import multiprocessing\n",
    "import urllib\n",
    "import cv2\n",
    "import pandas as pd\n",
    "from tqdm import tqdm_notebook"
   ]
  },
  {
   "cell_type": "code",
   "execution_count": null,
   "metadata": {},
   "outputs": [],
   "source": [
    "# Administrative constants\n",
    "vso_dir = './vso/'\n",
    "\n",
    "\n",
    "def process_anps(file_name):\n",
    "    # Get the ANP from the file name\n",
    "    adj = file_name.split('_')[0]\n",
    "    noun = file_name.split('_')[1].split('.')[0]\n",
    "\n",
    "    # Download each image listed in the file and then get the RGB out of them\n",
    "    with open(vso_dir + file_name, 'r') as file_handle:\n",
    "        file_lines = file_handle.readlines()\n",
    "    for line in tqdm_notebook(file_lines, total=len(file_lines), desc='Images for this ANP'):\n",
    "        url = line.split(' ')[1]\n",
    "        # Write the image to a temporary file\n",
    "        _, img_path = tempfile.mkstemp()\n",
    "        try:\n",
    "            urllib.urlretrieve(url, img_path)\n",
    "            img = cv2.imread(img_path)\n",
    "\n",
    "        # Delete the temporary file\n",
    "        finally:\n",
    "            try:\n",
    "                os.remove(img_path)\n",
    "            except OSError:\n",
    "                pass\n",
    "\n",
    "    return adj, noun, img\n",
    "\n",
    "\n",
    "# get all of the attribute-noun-pairs in Columbia's\n",
    "# visual sentiment ontology (VSO) dataset\n",
    "#adjs = []\n",
    "#nouns = []\n",
    "#imgs = []\n",
    "file_names = os.listdir(vso_dir)\n",
    "pool = multiprocessing.Pool(4)\n",
    "iterator = pool.imap(process_anps, file_names)\n",
    "data = list(tqdm_notebook(iterator, total=len(file_names), desc='ANPs'))\n",
    "\n",
    "# Parse the information into a dataframe, then save\n",
    "data_dict = {'Adjectives': [datum[0] for datum in data],\n",
    "             'Nouns': [datum[1] for datum in data],\n",
    "             'RGB': [datum[2] for datum in data]}\n",
    "df = pd.DataFrame(data_dict)"
   ]
  }
 ],
 "metadata": {
  "kernelspec": {
   "display_name": "Python 2",
   "language": "python",
   "name": "python2"
  },
  "language_info": {
   "codemirror_mode": {
    "name": "ipython",
    "version": 2
   },
   "file_extension": ".py",
   "mimetype": "text/x-python",
   "name": "python",
   "nbconvert_exporter": "python",
   "pygments_lexer": "ipython2",
   "version": "2.7.15"
  }
 },
 "nbformat": 4,
 "nbformat_minor": 2
}
