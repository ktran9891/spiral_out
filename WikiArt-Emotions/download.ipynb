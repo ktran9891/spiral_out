{
 "cells": [
  {
   "cell_type": "code",
   "execution_count": null,
   "metadata": {},
   "outputs": [],
   "source": [
    "import multiprocess\n",
    "import urllib\n",
    "import pandas as pd\n",
    "from tqdm import tqdm_notebook\n",
    "from sklearn.model_selection import train_test_split"
   ]
  },
  {
   "cell_type": "code",
   "execution_count": null,
   "metadata": {
    "scrolled": true
   },
   "outputs": [],
   "source": [
    "# Read, parse, and organize the data\n",
    "df = pd.DataFrame.from_csv('WikiArt-Emotions-All.tsv', sep='\\t')\n",
    "obsolete_columns = [column for column in df.columns\n",
    "                    if column != 'Image URL' and\n",
    "                    'ImageOnly' not in column]\n",
    "df = df.drop(columns=obsolete_columns)\n",
    "df = df.rename(columns={name: name.split(' ')[1] for name in df.columns if name != 'Image URL'})\n",
    "\n",
    "# Split the data\n",
    "df_train, df_validate = train_test_split(df, train_size=0.8, test_size=0.2)"
   ]
  },
  {
   "cell_type": "code",
   "execution_count": null,
   "metadata": {},
   "outputs": [],
   "source": [
    "# Create a downloading function we can multithread\n",
    "def download_image(iterrow, folder):\n",
    "    index, row = iterrow\n",
    "    url = row['Image URL'].replace('https', 'http')\n",
    "    urllib.urlretrieve(url, folder + index + '.jpg')\n",
    "\n",
    "\n",
    "# Download the training images\n",
    "pool = multiprocess.Pool(4)\n",
    "iterator = pool.imap(lambda row: download_image(row, 'train/'),\n",
    "                     df_train.iterrows())\n",
    "_ = list(tqdm_notebook(iterator, total=df_train.shape[0]))\n",
    "\n",
    "# Download the validation images\n",
    "iterator = pool.imap(lambda row: download_image(row, 'validate/'),\n",
    "                     df_validate.iterrows())\n",
    "_ = list(tqdm_notebook(iterator, total=df_validate.shape[0]))"
   ]
  },
  {
   "cell_type": "code",
   "execution_count": null,
   "metadata": {},
   "outputs": [],
   "source": []
  }
 ],
 "metadata": {
  "kernelspec": {
   "display_name": "Python 2",
   "language": "python",
   "name": "python2"
  },
  "language_info": {
   "codemirror_mode": {
    "name": "ipython",
    "version": 2
   },
   "file_extension": ".py",
   "mimetype": "text/x-python",
   "name": "python",
   "nbconvert_exporter": "python",
   "pygments_lexer": "ipython2",
   "version": "2.7.15"
  }
 },
 "nbformat": 4,
 "nbformat_minor": 2
}
