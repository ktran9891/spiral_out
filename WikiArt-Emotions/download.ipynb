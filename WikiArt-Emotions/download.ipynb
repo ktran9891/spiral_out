{
 "cells": [
  {
   "cell_type": "code",
   "execution_count": 1,
   "metadata": {},
   "outputs": [],
   "source": [
    "import multiprocess\n",
    "import urllib\n",
    "import pandas as pd\n",
    "from tqdm import tqdm_notebook"
   ]
  },
  {
   "cell_type": "code",
   "execution_count": 2,
   "metadata": {
    "scrolled": true
   },
   "outputs": [],
   "source": [
    "# Read, parse, and organize the data\n",
    "df = pd.read_csv('WikiArt-Emotions-All.tsv', sep='\\t')\n",
    "obsolete_columns = [column for column in df.columns\n",
    "                    if column != 'Image URL' and\n",
    "                    column != 'ID' and\n",
    "                    'ImageOnly' not in column]\n",
    "df = df.drop(columns=obsolete_columns)\n",
    "df = df.rename(columns={name: name.split(' ')[1] for name in df.columns\n",
    "                        if name != 'Image URL' and\n",
    "                        name != 'ID'})\n",
    "df = df.set_index('ID')\n",
    "\n",
    "# Save the dataframes for later use\n",
    "df.to_pickle('data.pkl')"
   ]
  },
  {
   "cell_type": "code",
   "execution_count": null,
   "metadata": {},
   "outputs": [
    {
     "data": {
      "application/vnd.jupyter.widget-view+json": {
       "model_id": "dbd90d37bb8141bcb53e7c15d7d241c1",
       "version_major": 2,
       "version_minor": 0
      },
      "text/plain": [
       "HBox(children=(IntProgress(value=0, max=4105), HTML(value=u'')))"
      ]
     },
     "metadata": {},
     "output_type": "display_data"
    }
   ],
   "source": [
    "# Create a downloading function we can multithread\n",
    "def download_image(iterrow):\n",
    "    index, row = iterrow\n",
    "    url = row['Image URL'].replace('https', 'http')\n",
    "    urllib.urlretrieve(url, 'images/' + index + '.jpg')\n",
    "\n",
    "\n",
    "# Download the training images\n",
    "pool = multiprocess.Pool(4)\n",
    "iterator = pool.imap(download_image, df.iterrows())\n",
    "_ = list(tqdm_notebook(iterator, total=df.shape[0]))"
   ]
  },
  {
   "cell_type": "code",
   "execution_count": null,
   "metadata": {},
   "outputs": [],
   "source": []
  }
 ],
 "metadata": {
  "kernelspec": {
   "display_name": "Python 2",
   "language": "python",
   "name": "python2"
  },
  "language_info": {
   "codemirror_mode": {
    "name": "ipython",
    "version": 2
   },
   "file_extension": ".py",
   "mimetype": "text/x-python",
   "name": "python",
   "nbconvert_exporter": "python",
   "pygments_lexer": "ipython2",
   "version": "2.7.15"
  }
 },
 "nbformat": 4,
 "nbformat_minor": 2
}
